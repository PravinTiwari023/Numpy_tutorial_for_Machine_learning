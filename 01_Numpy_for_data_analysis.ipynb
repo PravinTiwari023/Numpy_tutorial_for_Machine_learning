{
  "nbformat": 4,
  "nbformat_minor": 0,
  "metadata": {
    "colab": {
      "provenance": [],
      "authorship_tag": "ABX9TyPQLjc+VDclY/LDQ6lHUI0P",
      "include_colab_link": true
    },
    "kernelspec": {
      "name": "python3",
      "display_name": "Python 3"
    },
    "language_info": {
      "name": "python"
    }
  },
  "cells": [
    {
      "cell_type": "markdown",
      "metadata": {
        "id": "view-in-github",
        "colab_type": "text"
      },
      "source": [
        "<a href=\"https://colab.research.google.com/github/PravinTiwari023/Numpy_tutorial_for_Machine_learning/blob/main/01_Numpy_for_data_analysis.ipynb\" target=\"_parent\"><img src=\"https://colab.research.google.com/assets/colab-badge.svg\" alt=\"Open In Colab\"/></a>"
      ]
    },
    {
      "cell_type": "code",
      "execution_count": 1,
      "metadata": {
        "id": "zvA5uRK24eWB"
      },
      "outputs": [],
      "source": [
        "import numpy as np"
      ]
    },
    {
      "cell_type": "markdown",
      "source": [
        "Vector is 1D array\n",
        "\n",
        "Matrices is 2D array\n",
        "\n",
        "[Note matrix can have one row and one column]"
      ],
      "metadata": {
        "id": "LfLB_9ct5DUx"
      }
    },
    {
      "cell_type": "code",
      "source": [
        "vector = [1,2,3,4]\n",
        "matrix = [[1,2,3],[4,5,6],[7,8,9]]\n",
        "\n",
        "print(vector)\n",
        "print(matrix)"
      ],
      "metadata": {
        "colab": {
          "base_uri": "https://localhost:8080/"
        },
        "id": "2KEkF__-4q3x",
        "outputId": "38e491c1-694b-43ae-8fca-6b4001b8232b"
      },
      "execution_count": 2,
      "outputs": [
        {
          "output_type": "stream",
          "name": "stdout",
          "text": [
            "[1, 2, 3, 4]\n",
            "[[1, 2, 3], [4, 5, 6], [7, 8, 9]]\n"
          ]
        }
      ]
    },
    {
      "cell_type": "code",
      "source": [
        "# Ways of Creating NumPy Array\n",
        "\n",
        "np_vector = np.array(vector)\n",
        "np_matrix = np.array(matrix)\n",
        "\n",
        "print(np_vector)\n",
        "print(np_matrix)"
      ],
      "metadata": {
        "colab": {
          "base_uri": "https://localhost:8080/"
        },
        "id": "fr8EmDMM6O3o",
        "outputId": "2a4bdd2f-80b5-4fbf-f5ca-405a05a1029f"
      },
      "execution_count": 3,
      "outputs": [
        {
          "output_type": "stream",
          "name": "stdout",
          "text": [
            "[1 2 3 4]\n",
            "[[1 2 3]\n",
            " [4 5 6]\n",
            " [7 8 9]]\n"
          ]
        }
      ]
    },
    {
      "cell_type": "code",
      "source": [
        "np.arange(0,11,2)"
      ],
      "metadata": {
        "colab": {
          "base_uri": "https://localhost:8080/"
        },
        "id": "6PmXqm816lJh",
        "outputId": "83dd7af8-7179-4788-c2e8-e163360f7771"
      },
      "execution_count": 7,
      "outputs": [
        {
          "output_type": "execute_result",
          "data": {
            "text/plain": [
              "array([ 0,  2,  4,  6,  8, 10])"
            ]
          },
          "metadata": {},
          "execution_count": 7
        }
      ]
    },
    {
      "cell_type": "code",
      "source": [
        "np.zeros((2,3))"
      ],
      "metadata": {
        "colab": {
          "base_uri": "https://localhost:8080/"
        },
        "id": "pTA_tSSf7ABS",
        "outputId": "4107e355-0a86-484f-986e-1595fb8d7233"
      },
      "execution_count": 8,
      "outputs": [
        {
          "output_type": "execute_result",
          "data": {
            "text/plain": [
              "array([[0., 0., 0.],\n",
              "       [0., 0., 0.]])"
            ]
          },
          "metadata": {},
          "execution_count": 8
        }
      ]
    },
    {
      "cell_type": "code",
      "source": [
        "np.ones((2,4))"
      ],
      "metadata": {
        "colab": {
          "base_uri": "https://localhost:8080/"
        },
        "id": "gb0fEqrC7XSn",
        "outputId": "2ef8e3e4-70e6-42f3-ba66-5202e7205609"
      },
      "execution_count": 9,
      "outputs": [
        {
          "output_type": "execute_result",
          "data": {
            "text/plain": [
              "array([[1., 1., 1., 1.],\n",
              "       [1., 1., 1., 1.]])"
            ]
          },
          "metadata": {},
          "execution_count": 9
        }
      ]
    },
    {
      "cell_type": "code",
      "source": [
        "np.linspace(0,7,20)"
      ],
      "metadata": {
        "colab": {
          "base_uri": "https://localhost:8080/"
        },
        "id": "Hdd_l97d7dPT",
        "outputId": "6e2a29cf-2996-4a2c-bc86-90448aca4a1b"
      },
      "execution_count": 12,
      "outputs": [
        {
          "output_type": "execute_result",
          "data": {
            "text/plain": [
              "array([0.        , 0.36842105, 0.73684211, 1.10526316, 1.47368421,\n",
              "       1.84210526, 2.21052632, 2.57894737, 2.94736842, 3.31578947,\n",
              "       3.68421053, 4.05263158, 4.42105263, 4.78947368, 5.15789474,\n",
              "       5.52631579, 5.89473684, 6.26315789, 6.63157895, 7.        ])"
            ]
          },
          "metadata": {},
          "execution_count": 12
        }
      ]
    },
    {
      "cell_type": "code",
      "source": [
        "np.eye(3)"
      ],
      "metadata": {
        "colab": {
          "base_uri": "https://localhost:8080/"
        },
        "id": "w6lgB10C75TZ",
        "outputId": "a90ee5d9-0131-4c7b-fb68-25af213ef221"
      },
      "execution_count": 13,
      "outputs": [
        {
          "output_type": "execute_result",
          "data": {
            "text/plain": [
              "array([[1., 0., 0.],\n",
              "       [0., 1., 0.],\n",
              "       [0., 0., 1.]])"
            ]
          },
          "metadata": {},
          "execution_count": 13
        }
      ]
    },
    {
      "cell_type": "code",
      "source": [
        "np.random.rand(5)"
      ],
      "metadata": {
        "colab": {
          "base_uri": "https://localhost:8080/"
        },
        "id": "wlwjMhfR8SX9",
        "outputId": "d6dd5079-7112-4abf-c6df-1644e4facce5"
      },
      "execution_count": 14,
      "outputs": [
        {
          "output_type": "execute_result",
          "data": {
            "text/plain": [
              "array([0.16558355, 0.28228465, 0.74888443, 0.41307731, 0.61672271])"
            ]
          },
          "metadata": {},
          "execution_count": 14
        }
      ]
    },
    {
      "cell_type": "code",
      "source": [
        "np.random.rand(2,5)"
      ],
      "metadata": {
        "colab": {
          "base_uri": "https://localhost:8080/"
        },
        "id": "QYqmQhmp8xJl",
        "outputId": "ce8a40ed-42b9-4a23-bcc3-249203d08a5c"
      },
      "execution_count": 15,
      "outputs": [
        {
          "output_type": "execute_result",
          "data": {
            "text/plain": [
              "array([[0.06742845, 0.75660004, 0.3859053 , 0.55226299, 0.69325722],\n",
              "       [0.47269912, 0.61484943, 0.9553471 , 0.35024523, 0.34298693]])"
            ]
          },
          "metadata": {},
          "execution_count": 15
        }
      ]
    },
    {
      "cell_type": "code",
      "source": [
        "#random array\n",
        "\n",
        "np.random.randn(5)"
      ],
      "metadata": {
        "colab": {
          "base_uri": "https://localhost:8080/"
        },
        "id": "4ZnjETDj80mC",
        "outputId": "d70a479c-2ae4-442b-e7af-555cbd35872d"
      },
      "execution_count": 17,
      "outputs": [
        {
          "output_type": "execute_result",
          "data": {
            "text/plain": [
              "array([ 0.15630174,  0.54427324,  0.09245262, -1.03443419, -0.37235267])"
            ]
          },
          "metadata": {},
          "execution_count": 17
        }
      ]
    },
    {
      "cell_type": "code",
      "source": [
        "#random integer from a given range\n",
        "\n",
        "np.random.randint(12,24)"
      ],
      "metadata": {
        "colab": {
          "base_uri": "https://localhost:8080/"
        },
        "id": "hnlzQALj8584",
        "outputId": "028d1709-caa6-4d48-eb90-96de268eca32"
      },
      "execution_count": 20,
      "outputs": [
        {
          "output_type": "execute_result",
          "data": {
            "text/plain": [
              "17"
            ]
          },
          "metadata": {},
          "execution_count": 20
        }
      ]
    },
    {
      "cell_type": "code",
      "source": [
        "#we can use it for finding random arrays \n",
        "\n",
        "random_array = np.random.randint(1,50,10)\n",
        "\n",
        "print(random_array)"
      ],
      "metadata": {
        "colab": {
          "base_uri": "https://localhost:8080/"
        },
        "id": "_qJ_LnzB9fwM",
        "outputId": "bf2d1d2a-a285-4ac1-ae38-116af1666d42"
      },
      "execution_count": 21,
      "outputs": [
        {
          "output_type": "stream",
          "name": "stdout",
          "text": [
            "[19 26  2 37  5 17  5 20 43 33]\n"
          ]
        }
      ]
    },
    {
      "cell_type": "code",
      "source": [
        "# simple hand cricket game \n",
        "\n",
        "runs = 0\n",
        "batting = 5\n",
        "i = 1\n",
        "\n",
        "while i <= 5:\n",
        "  bats_man = np.random.randint(0,6)\n",
        "  baller = np.random.randint(1,6)\n",
        "  if bats_man == baller :\n",
        "    print(\"out\")\n",
        "    i = i + 1\n",
        "  else :\n",
        "    runs = runs + bats_man\n",
        "    print(bats_man,baller)\n",
        "print(\"score :\",runs)"
      ],
      "metadata": {
        "colab": {
          "base_uri": "https://localhost:8080/"
        },
        "id": "OzfNIe84-KH5",
        "outputId": "335cbb46-82b7-478f-d787-402d0dbc3736"
      },
      "execution_count": 27,
      "outputs": [
        {
          "output_type": "stream",
          "name": "stdout",
          "text": [
            "4 3\n",
            "out\n",
            "3 2\n",
            "0 2\n",
            "5 4\n",
            "1 2\n",
            "2 5\n",
            "out\n",
            "1 4\n",
            "5 3\n",
            "3 2\n",
            "3 2\n",
            "4 3\n",
            "4 3\n",
            "1 5\n",
            "3 1\n",
            "out\n",
            "2 1\n",
            "1 4\n",
            "0 3\n",
            "out\n",
            "out\n",
            "score : 42\n"
          ]
        }
      ]
    },
    {
      "cell_type": "code",
      "source": [
        "random_array.reshape(2,5)"
      ],
      "metadata": {
        "colab": {
          "base_uri": "https://localhost:8080/"
        },
        "id": "CLlLLMDx_glR",
        "outputId": "c90f629f-bf59-415f-ed36-b4e47ff003cf"
      },
      "execution_count": 28,
      "outputs": [
        {
          "output_type": "execute_result",
          "data": {
            "text/plain": [
              "array([[19, 26,  2, 37,  5],\n",
              "       [17,  5, 20, 43, 33]])"
            ]
          },
          "metadata": {},
          "execution_count": 28
        }
      ]
    },
    {
      "cell_type": "code",
      "source": [
        "random_array = np.random.randint(1,50,10)\n",
        "\n",
        "print(random_array)"
      ],
      "metadata": {
        "colab": {
          "base_uri": "https://localhost:8080/"
        },
        "outputId": "0fd34630-9b87-4de7-9eba-8511d0364e61",
        "id": "iJBHBW_bAitT"
      },
      "execution_count": 29,
      "outputs": [
        {
          "output_type": "stream",
          "name": "stdout",
          "text": [
            "[21  7 23 46 30 35 37 27 16 35]\n"
          ]
        }
      ]
    },
    {
      "cell_type": "code",
      "source": [
        "random_array.max()"
      ],
      "metadata": {
        "colab": {
          "base_uri": "https://localhost:8080/"
        },
        "id": "ppOFH3qnAkxe",
        "outputId": "d3c4ba06-8e82-4c4b-e579-45aac84aeb9d"
      },
      "execution_count": 30,
      "outputs": [
        {
          "output_type": "execute_result",
          "data": {
            "text/plain": [
              "46"
            ]
          },
          "metadata": {},
          "execution_count": 30
        }
      ]
    },
    {
      "cell_type": "code",
      "source": [
        "random_array.min()"
      ],
      "metadata": {
        "colab": {
          "base_uri": "https://localhost:8080/"
        },
        "id": "LNAjVmsLAulA",
        "outputId": "abdc7bb0-f1d3-451c-d698-b17b145d8bfe"
      },
      "execution_count": 31,
      "outputs": [
        {
          "output_type": "execute_result",
          "data": {
            "text/plain": [
              "7"
            ]
          },
          "metadata": {},
          "execution_count": 31
        }
      ]
    },
    {
      "cell_type": "code",
      "source": [
        "print(random_array)\n",
        "\n",
        "random_array.argmax()"
      ],
      "metadata": {
        "colab": {
          "base_uri": "https://localhost:8080/"
        },
        "id": "WNMlNGPzA4S6",
        "outputId": "b0f3caaa-50b1-4579-c503-7ef4f312151b"
      },
      "execution_count": 32,
      "outputs": [
        {
          "output_type": "stream",
          "name": "stdout",
          "text": [
            "[21  7 23 46 30 35 37 27 16 35]\n"
          ]
        },
        {
          "output_type": "execute_result",
          "data": {
            "text/plain": [
              "3"
            ]
          },
          "metadata": {},
          "execution_count": 32
        }
      ]
    },
    {
      "cell_type": "code",
      "source": [
        "random_array.argmin()"
      ],
      "metadata": {
        "colab": {
          "base_uri": "https://localhost:8080/"
        },
        "id": "pTyO4v-nA_CE",
        "outputId": "3fe1fc2a-c702-46e6-98d1-22f7d2d52202"
      },
      "execution_count": 33,
      "outputs": [
        {
          "output_type": "execute_result",
          "data": {
            "text/plain": [
              "1"
            ]
          },
          "metadata": {},
          "execution_count": 33
        }
      ]
    },
    {
      "cell_type": "code",
      "source": [
        "random_array.shape"
      ],
      "metadata": {
        "colab": {
          "base_uri": "https://localhost:8080/"
        },
        "id": "O6gWXjd6BFIY",
        "outputId": "0d90ac51-d90d-4fb5-8414-65fbda64e42d"
      },
      "execution_count": 34,
      "outputs": [
        {
          "output_type": "execute_result",
          "data": {
            "text/plain": [
              "(10,)"
            ]
          },
          "metadata": {},
          "execution_count": 34
        }
      ]
    },
    {
      "cell_type": "code",
      "source": [],
      "metadata": {
        "id": "XvcS9Di-BJ4f"
      },
      "execution_count": null,
      "outputs": []
    }
  ]
}